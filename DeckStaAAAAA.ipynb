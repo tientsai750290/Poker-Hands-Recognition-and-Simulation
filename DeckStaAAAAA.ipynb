{
 "cells": [
  {
   "cell_type": "code",
   "execution_count": 1,
   "metadata": {},
   "outputs": [],
   "source": [
    "# pip install manager\n",
    "# pip install pandas"
   ]
  },
  {
   "cell_type": "code",
   "execution_count": 2,
   "metadata": {},
   "outputs": [],
   "source": [
    "import itertools, random\n",
    "import pandas as pd"
   ]
  },
  {
   "cell_type": "code",
   "execution_count": 3,
   "metadata": {},
   "outputs": [],
   "source": [
    "deck = list(itertools.product(range(1,14),range(1,5)))"
   ]
  },
  {
   "cell_type": "code",
   "execution_count": 4,
   "metadata": {},
   "outputs": [],
   "source": [
    "hands = {\n",
    "(1,1,1,1,1): 'nothing?',\n",
    "(1,1,1,2): 'one pair',\n",
    "(1,2,2): 'two pair',\n",
    "(1,1,3): 'three of a kind',\n",
    "(2,3): 'full house',\n",
    "(1,4): 'four of a kind'\n",
    "}\n",
    "hands_s = {\n",
    "(1,1,1,2): 'nothing??',\n",
    "(1,2,2): 'nothing??',\n",
    "(1,1,3): 'nothing??',\n",
    "(2,3): 'nothing??',\n",
    "(1,4): 'nothing??',\n",
    "(5,) : 'flush?'\n",
    "}"
   ]
  },
  {
   "cell_type": "code",
   "execution_count": 5,
   "metadata": {},
   "outputs": [],
   "source": [
    "Nothing_List = []\n",
    "One_Pair_List = []\n",
    "Two_Pair_List = []\n",
    "Three_of_a_Kind_List = []\n",
    "Straight_List = []\n",
    "Flush_List = []\n",
    "Full_House_List = []\n",
    "Four_of_a_Kind_List = []\n",
    "Straight_Flush_List = []"
   ]
  },
  {
   "cell_type": "code",
   "execution_count": 6,
   "metadata": {},
   "outputs": [],
   "source": [
    "for i in range(1000): \n",
    "    Nothing = 0\n",
    "    One_Pair = 0\n",
    "    Two_Pair = 0\n",
    "    Three_of_a_Kind = 0\n",
    "    Straight = 0\n",
    "    Flush = 0\n",
    "    Full_House = 0\n",
    "    Four_of_a_Kind = 0\n",
    "    Straight_Flush = 0\n",
    "    for j in range(1000000):\n",
    "        random.shuffle(deck)\n",
    "        x = (deck[0][0], deck[1][0], deck[2][0], deck[3][0], deck[4][0])\n",
    "        y = (deck[0][1], deck[1][1], deck[2][1], deck[3][1], deck[4][1])\n",
    "        x = tuple(sorted(x))\n",
    "        def eval_hand(x):\n",
    "            counts = tuple(sorted(x.count(card) for card in set(x)))\n",
    "            return hands.get(counts)\n",
    "        if eval_hand(x) == 'one pair': One_Pair = One_Pair + 1\n",
    "        elif eval_hand(x) == 'two pair': Two_Pair = Two_Pair + 1\n",
    "        elif eval_hand(x) == 'three of a kind': Three_of_a_Kind = Three_of_a_Kind +1\n",
    "        elif eval_hand(x) == 'full house': Full_House = Full_House + 1\n",
    "        elif eval_hand(x) == 'four of a kind': Four_of_a_Kind = Four_of_a_Kind + 1\n",
    "        else: \n",
    "            def eval_hand_s(y):\n",
    "                counts = tuple(sorted(y.count(card) for card in set(y)))\n",
    "                return hands_s.get(counts)\n",
    "            if eval_hand_s(y) == 'flush?':\n",
    "                Flush = Flush + 1\n",
    "            if eval_hand_s(y) == 'flush?' and x[4] - x[0] == 4:\n",
    "                Flush = Flush - 1\n",
    "                Straight_Flush = Straight_Flush + 1\n",
    "            if eval_hand_s(y) == 'flush?' and x[0] == 1 and x[1] == 10:\n",
    "                Flush = Flush - 1\n",
    "                Straight_Flush = Straight_Flush + 1\n",
    "            if eval_hand_s(y) == 'nothing??' and x[4] - x[0] == 4:\n",
    "                Straight = Straight + 1\n",
    "            if eval_hand_s(y) == 'nothing??' and x[4] - x[0] != 4:\n",
    "                Nothing = Nothing + 1\n",
    "            if eval_hand_s(y) == 'nothing??' and x[0] == 1 and x[1] == 10:\n",
    "                Straight = Straight + 1\n",
    "                Nothing = Nothing - 1\n",
    "    Nothing_List.append(Nothing)\n",
    "    One_Pair_List.append(One_Pair)\n",
    "    Two_Pair_List.append(Two_Pair)\n",
    "    Three_of_a_Kind_List.append(Three_of_a_Kind)\n",
    "    Straight_List.append(Straight)\n",
    "    Flush_List.append(Flush)\n",
    "    Full_House_List.append(Full_House)\n",
    "    Four_of_a_Kind_List.append(Four_of_a_Kind)\n",
    "    Straight_Flush_List.append(Straight_Flush)"
   ]
  },
  {
   "cell_type": "code",
   "execution_count": 7,
   "metadata": {},
   "outputs": [],
   "source": [
    "Deck_Sta = {'Nothing': Nothing_List,\n",
    "    'One_Pair': One_Pair_List,\n",
    "    'Two_Pair': Two_Pair_List,\n",
    "    'Three_of_a_Kind': Three_of_a_Kind_List,\n",
    "    'Straight': Straight_List,\n",
    "    'Flush': Flush_List,\n",
    "    'Full_House': Full_House_List,\n",
    "    'Four_of_a_Kind': Four_of_a_Kind_List,\n",
    "    'Straight_Flush': Straight_Flush_List\n",
    "    }\n",
    "df = pd.DataFrame.from_dict(Deck_Sta)"
   ]
  },
  {
   "cell_type": "code",
   "execution_count": 8,
   "metadata": {},
   "outputs": [],
   "source": [
    "df.to_excel(\"Deck-Sta-1000000_1000.xlsx\")"
   ]
  }
 ],
 "metadata": {
  "kernelspec": {
   "display_name": "Python 3",
   "language": "python",
   "name": "python3"
  },
  "language_info": {
   "codemirror_mode": {
    "name": "ipython",
    "version": 3
   },
   "file_extension": ".py",
   "mimetype": "text/x-python",
   "name": "python",
   "nbconvert_exporter": "python",
   "pygments_lexer": "ipython3",
   "version": "3.8.5"
  }
 },
 "nbformat": 4,
 "nbformat_minor": 4
}

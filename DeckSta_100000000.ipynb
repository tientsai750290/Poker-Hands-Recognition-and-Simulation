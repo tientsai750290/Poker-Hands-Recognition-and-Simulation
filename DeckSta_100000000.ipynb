{
 "cells": [
  {
   "cell_type": "code",
   "execution_count": 1,
   "metadata": {},
   "outputs": [],
   "source": [
    "import pandas as pd\n",
    "import seaborn as sns\n",
    "import matplotlib"
   ]
  },
  {
   "cell_type": "code",
   "execution_count": 2,
   "metadata": {
    "scrolled": true
   },
   "outputs": [
    {
     "data": {
      "text/html": [
       "<div>\n",
       "<style scoped>\n",
       "    .dataframe tbody tr th:only-of-type {\n",
       "        vertical-align: middle;\n",
       "    }\n",
       "\n",
       "    .dataframe tbody tr th {\n",
       "        vertical-align: top;\n",
       "    }\n",
       "\n",
       "    .dataframe thead th {\n",
       "        text-align: right;\n",
       "    }\n",
       "</style>\n",
       "<table border=\"1\" class=\"dataframe\">\n",
       "  <thead>\n",
       "    <tr style=\"text-align: right;\">\n",
       "      <th></th>\n",
       "      <th>Unnamed: 0</th>\n",
       "      <th>Nothing</th>\n",
       "      <th>One_Pair</th>\n",
       "      <th>Two_Pair</th>\n",
       "      <th>Three_of_a_Kind</th>\n",
       "      <th>Straight</th>\n",
       "      <th>Flush</th>\n",
       "      <th>Full_House</th>\n",
       "      <th>Four_of_a_Kind</th>\n",
       "      <th>Straight_Flush</th>\n",
       "    </tr>\n",
       "  </thead>\n",
       "  <tbody>\n",
       "    <tr>\n",
       "      <th>0</th>\n",
       "      <td>0.0</td>\n",
       "      <td>4931.0</td>\n",
       "      <td>4312.0</td>\n",
       "      <td>479.0</td>\n",
       "      <td>207.0</td>\n",
       "      <td>29.0</td>\n",
       "      <td>21.0</td>\n",
       "      <td>17.0</td>\n",
       "      <td>4.0</td>\n",
       "      <td>0.0</td>\n",
       "    </tr>\n",
       "    <tr>\n",
       "      <th>1</th>\n",
       "      <td>1.0</td>\n",
       "      <td>4998.0</td>\n",
       "      <td>4260.0</td>\n",
       "      <td>441.0</td>\n",
       "      <td>221.0</td>\n",
       "      <td>40.0</td>\n",
       "      <td>20.0</td>\n",
       "      <td>16.0</td>\n",
       "      <td>4.0</td>\n",
       "      <td>0.0</td>\n",
       "    </tr>\n",
       "    <tr>\n",
       "      <th>2</th>\n",
       "      <td>2.0</td>\n",
       "      <td>5130.0</td>\n",
       "      <td>4064.0</td>\n",
       "      <td>492.0</td>\n",
       "      <td>236.0</td>\n",
       "      <td>43.0</td>\n",
       "      <td>17.0</td>\n",
       "      <td>16.0</td>\n",
       "      <td>2.0</td>\n",
       "      <td>0.0</td>\n",
       "    </tr>\n",
       "    <tr>\n",
       "      <th>3</th>\n",
       "      <td>3.0</td>\n",
       "      <td>5001.0</td>\n",
       "      <td>4191.0</td>\n",
       "      <td>513.0</td>\n",
       "      <td>210.0</td>\n",
       "      <td>46.0</td>\n",
       "      <td>25.0</td>\n",
       "      <td>12.0</td>\n",
       "      <td>2.0</td>\n",
       "      <td>0.0</td>\n",
       "    </tr>\n",
       "    <tr>\n",
       "      <th>4</th>\n",
       "      <td>4.0</td>\n",
       "      <td>5042.0</td>\n",
       "      <td>4259.0</td>\n",
       "      <td>422.0</td>\n",
       "      <td>228.0</td>\n",
       "      <td>27.0</td>\n",
       "      <td>14.0</td>\n",
       "      <td>8.0</td>\n",
       "      <td>0.0</td>\n",
       "      <td>0.0</td>\n",
       "    </tr>\n",
       "  </tbody>\n",
       "</table>\n",
       "</div>"
      ],
      "text/plain": [
       "   Unnamed: 0  Nothing  One_Pair  Two_Pair  Three_of_a_Kind  Straight  Flush  \\\n",
       "0         0.0   4931.0    4312.0     479.0            207.0      29.0   21.0   \n",
       "1         1.0   4998.0    4260.0     441.0            221.0      40.0   20.0   \n",
       "2         2.0   5130.0    4064.0     492.0            236.0      43.0   17.0   \n",
       "3         3.0   5001.0    4191.0     513.0            210.0      46.0   25.0   \n",
       "4         4.0   5042.0    4259.0     422.0            228.0      27.0   14.0   \n",
       "\n",
       "   Full_House  Four_of_a_Kind  Straight_Flush  \n",
       "0        17.0             4.0             0.0  \n",
       "1        16.0             4.0             0.0  \n",
       "2        16.0             2.0             0.0  \n",
       "3        12.0             2.0             0.0  \n",
       "4         8.0             0.0             0.0  "
      ]
     },
     "execution_count": 2,
     "metadata": {},
     "output_type": "execute_result"
    }
   ],
   "source": [
    "LargeDeckSta_df = pd.read_excel(\"./Deck-Sta-10000.xlsx\")\n",
    "LargeDeckSta_df.head()"
   ]
  },
  {
   "cell_type": "code",
   "execution_count": 3,
   "metadata": {},
   "outputs": [
    {
     "name": "stdout",
     "output_type": "stream",
     "text": [
      "['Four_of_a_Kind', 'Three_of_a_Kind', 'Straight_Flush', 'Straight', 'Two_Pair', 'Flush', 'One_Pair', 'Unnamed:0', 'Full_House', 'Nothing']\n",
      "['Four_of_a_Kind', 'Three_of_a_Kind', 'Straight_Flush', 'Straight', 'Two_Pair', 'Flush', 'One_Pair', 'Full_House', 'Nothing']\n"
     ]
    }
   ],
   "source": [
    "# LargeDeckSta_df = LargeDeckSta_df.drop(columns=[0,])\n",
    "Deck_acc = list(set(LargeDeckSta_df.columns))\n",
    "# print(Deck_acc)\n",
    "LargeDeckSta_df.columns = [col.replace(' ','') for col in LargeDeckSta_df.columns]\n",
    "# df.strip()/df.rstrip()/df.lstrip/df.drop(df.index[[0,1]])/df=df.dropna(axis=0)/.dropna(axis=0,how='any')\n",
    "#　dataframe.drop(dataframe.iloc[:, 0:1],axis=1)\n",
    "Deck_acc = list(set(LargeDeckSta_df.columns))\n",
    "print(Deck_acc)\n",
    "LargeDeckSta_df = LargeDeckSta_df.drop(columns=['Unnamed:0'])\n",
    "# LargeDeckSta_df = LargeDeckSta_df.drop(columns=['Unnamed:10','Unnamed:11','Unnamed:12','Unnamed:0'])\n",
    "Deck_acc = list(set(LargeDeckSta_df.columns))\n",
    "print(Deck_acc)\n",
    "LargeDeckSta_df = LargeDeckSta_df.dropna(axis=0)\n",
    "# LargeDeckSta_df = LargeDeckSta_df.drop(LargeDeckSta_df.index[[100,101]])"
   ]
  },
  {
   "cell_type": "code",
   "execution_count": 4,
   "metadata": {},
   "outputs": [
    {
     "name": "stdout",
     "output_type": "stream",
     "text": [
      "    Nothing  One_Pair  Two_Pair  Three_of_a_Kind  Straight  Flush  Full_House  \\\n",
      "0    4931.0    4312.0     479.0            207.0      29.0   21.0        17.0   \n",
      "1    4998.0    4260.0     441.0            221.0      40.0   20.0        16.0   \n",
      "2    5130.0    4064.0     492.0            236.0      43.0   17.0        16.0   \n",
      "3    5001.0    4191.0     513.0            210.0      46.0   25.0        12.0   \n",
      "4    5042.0    4259.0     422.0            228.0      27.0   14.0         8.0   \n",
      "..      ...       ...       ...              ...       ...    ...         ...   \n",
      "95   5014.0    4236.0     462.0            218.0      36.0   21.0        12.0   \n",
      "96   5035.0    4166.0     519.0            214.0      35.0   14.0        16.0   \n",
      "97   5020.0    4182.0     489.0            222.0      49.0   16.0        18.0   \n",
      "98   5046.0    4170.0     493.0            203.0      42.0   20.0        23.0   \n",
      "99   5012.0    4217.0     503.0            201.0      37.0   19.0        11.0   \n",
      "\n",
      "    Four_of_a_Kind  Straight_Flush  \n",
      "0              4.0             0.0  \n",
      "1              4.0             0.0  \n",
      "2              2.0             0.0  \n",
      "3              2.0             0.0  \n",
      "4              0.0             0.0  \n",
      "..             ...             ...  \n",
      "95             1.0             0.0  \n",
      "96             0.0             1.0  \n",
      "97             3.0             1.0  \n",
      "98             3.0             0.0  \n",
      "99             0.0             0.0  \n",
      "\n",
      "[100 rows x 9 columns]\n"
     ]
    }
   ],
   "source": [
    "print(LargeDeckSta_df)"
   ]
  },
  {
   "cell_type": "code",
   "execution_count": 5,
   "metadata": {},
   "outputs": [
    {
     "name": "stdout",
     "output_type": "stream",
     "text": [
      "    Nothing  One_Pair  Two_Pair  Three_of_a_Kind  Straight  Flush  Full_House  \\\n",
      "0    4931.0    4312.0     479.0            207.0      29.0   21.0        17.0   \n",
      "1    4998.0    4260.0     441.0            221.0      40.0   20.0        16.0   \n",
      "2    5130.0    4064.0     492.0            236.0      43.0   17.0        16.0   \n",
      "3    5001.0    4191.0     513.0            210.0      46.0   25.0        12.0   \n",
      "4    5042.0    4259.0     422.0            228.0      27.0   14.0         8.0   \n",
      "..      ...       ...       ...              ...       ...    ...         ...   \n",
      "95   5014.0    4236.0     462.0            218.0      36.0   21.0        12.0   \n",
      "96   5035.0    4166.0     519.0            214.0      35.0   14.0        16.0   \n",
      "97   5020.0    4182.0     489.0            222.0      49.0   16.0        18.0   \n",
      "98   5046.0    4170.0     493.0            203.0      42.0   20.0        23.0   \n",
      "99   5012.0    4217.0     503.0            201.0      37.0   19.0        11.0   \n",
      "\n",
      "    Four_of_a_Kind  Straight_Flush  \n",
      "0              4.0             0.0  \n",
      "1              4.0             0.0  \n",
      "2              2.0             0.0  \n",
      "3              2.0             0.0  \n",
      "4              0.0             0.0  \n",
      "..             ...             ...  \n",
      "95             1.0             0.0  \n",
      "96             0.0             1.0  \n",
      "97             3.0             1.0  \n",
      "98             3.0             0.0  \n",
      "99             0.0             0.0  \n",
      "\n",
      "[100 rows x 9 columns]\n"
     ]
    }
   ],
   "source": [
    "LargeDeckSta_df.dropna(inplace=True)\n",
    "print(LargeDeckSta_df)"
   ]
  },
  {
   "cell_type": "code",
   "execution_count": 6,
   "metadata": {},
   "outputs": [
    {
     "data": {
      "text/html": [
       "<div>\n",
       "<style scoped>\n",
       "    .dataframe tbody tr th:only-of-type {\n",
       "        vertical-align: middle;\n",
       "    }\n",
       "\n",
       "    .dataframe tbody tr th {\n",
       "        vertical-align: top;\n",
       "    }\n",
       "\n",
       "    .dataframe thead th {\n",
       "        text-align: right;\n",
       "    }\n",
       "</style>\n",
       "<table border=\"1\" class=\"dataframe\">\n",
       "  <thead>\n",
       "    <tr style=\"text-align: right;\">\n",
       "      <th></th>\n",
       "      <th>Nothing</th>\n",
       "      <th>One_Pair</th>\n",
       "      <th>Two_Pair</th>\n",
       "      <th>Three_of_a_Kind</th>\n",
       "      <th>Straight</th>\n",
       "      <th>Flush</th>\n",
       "      <th>Full_House</th>\n",
       "      <th>Four_of_a_Kind</th>\n",
       "      <th>Straight_Flush</th>\n",
       "    </tr>\n",
       "  </thead>\n",
       "  <tbody>\n",
       "    <tr>\n",
       "      <th>count</th>\n",
       "      <td>100.000000</td>\n",
       "      <td>100.000000</td>\n",
       "      <td>100.000000</td>\n",
       "      <td>100.000000</td>\n",
       "      <td>100.000000</td>\n",
       "      <td>100.000000</td>\n",
       "      <td>100.000000</td>\n",
       "      <td>100.000000</td>\n",
       "      <td>100.000000</td>\n",
       "    </tr>\n",
       "    <tr>\n",
       "      <th>mean</th>\n",
       "      <td>5012.520000</td>\n",
       "      <td>4222.220000</td>\n",
       "      <td>478.020000</td>\n",
       "      <td>211.670000</td>\n",
       "      <td>39.880000</td>\n",
       "      <td>19.150000</td>\n",
       "      <td>13.910000</td>\n",
       "      <td>2.470000</td>\n",
       "      <td>0.160000</td>\n",
       "    </tr>\n",
       "    <tr>\n",
       "      <th>std</th>\n",
       "      <td>46.464384</td>\n",
       "      <td>49.576709</td>\n",
       "      <td>21.342791</td>\n",
       "      <td>14.750487</td>\n",
       "      <td>6.712389</td>\n",
       "      <td>3.983235</td>\n",
       "      <td>3.706655</td>\n",
       "      <td>1.493792</td>\n",
       "      <td>0.368453</td>\n",
       "    </tr>\n",
       "    <tr>\n",
       "      <th>min</th>\n",
       "      <td>4886.000000</td>\n",
       "      <td>4064.000000</td>\n",
       "      <td>422.000000</td>\n",
       "      <td>179.000000</td>\n",
       "      <td>24.000000</td>\n",
       "      <td>10.000000</td>\n",
       "      <td>7.000000</td>\n",
       "      <td>0.000000</td>\n",
       "      <td>0.000000</td>\n",
       "    </tr>\n",
       "    <tr>\n",
       "      <th>1%</th>\n",
       "      <td>4927.580000</td>\n",
       "      <td>4122.410000</td>\n",
       "      <td>431.900000</td>\n",
       "      <td>180.980000</td>\n",
       "      <td>25.980000</td>\n",
       "      <td>10.990000</td>\n",
       "      <td>7.000000</td>\n",
       "      <td>0.000000</td>\n",
       "      <td>0.000000</td>\n",
       "    </tr>\n",
       "    <tr>\n",
       "      <th>5%</th>\n",
       "      <td>4946.400000</td>\n",
       "      <td>4143.950000</td>\n",
       "      <td>441.950000</td>\n",
       "      <td>186.900000</td>\n",
       "      <td>29.000000</td>\n",
       "      <td>12.000000</td>\n",
       "      <td>8.000000</td>\n",
       "      <td>0.000000</td>\n",
       "      <td>0.000000</td>\n",
       "    </tr>\n",
       "    <tr>\n",
       "      <th>10%</th>\n",
       "      <td>4953.800000</td>\n",
       "      <td>4163.500000</td>\n",
       "      <td>446.900000</td>\n",
       "      <td>193.900000</td>\n",
       "      <td>32.000000</td>\n",
       "      <td>14.000000</td>\n",
       "      <td>10.000000</td>\n",
       "      <td>1.000000</td>\n",
       "      <td>0.000000</td>\n",
       "    </tr>\n",
       "    <tr>\n",
       "      <th>25%</th>\n",
       "      <td>4978.250000</td>\n",
       "      <td>4191.000000</td>\n",
       "      <td>464.500000</td>\n",
       "      <td>202.750000</td>\n",
       "      <td>36.000000</td>\n",
       "      <td>17.000000</td>\n",
       "      <td>11.000000</td>\n",
       "      <td>1.000000</td>\n",
       "      <td>0.000000</td>\n",
       "    </tr>\n",
       "    <tr>\n",
       "      <th>50%</th>\n",
       "      <td>5013.000000</td>\n",
       "      <td>4222.500000</td>\n",
       "      <td>478.000000</td>\n",
       "      <td>210.500000</td>\n",
       "      <td>40.000000</td>\n",
       "      <td>19.000000</td>\n",
       "      <td>13.500000</td>\n",
       "      <td>2.000000</td>\n",
       "      <td>0.000000</td>\n",
       "    </tr>\n",
       "    <tr>\n",
       "      <th>75%</th>\n",
       "      <td>5046.000000</td>\n",
       "      <td>4256.250000</td>\n",
       "      <td>492.000000</td>\n",
       "      <td>222.000000</td>\n",
       "      <td>43.250000</td>\n",
       "      <td>22.000000</td>\n",
       "      <td>16.000000</td>\n",
       "      <td>3.000000</td>\n",
       "      <td>0.000000</td>\n",
       "    </tr>\n",
       "    <tr>\n",
       "      <th>90%</th>\n",
       "      <td>5066.600000</td>\n",
       "      <td>4284.100000</td>\n",
       "      <td>506.200000</td>\n",
       "      <td>230.100000</td>\n",
       "      <td>48.100000</td>\n",
       "      <td>24.000000</td>\n",
       "      <td>19.000000</td>\n",
       "      <td>4.000000</td>\n",
       "      <td>1.000000</td>\n",
       "    </tr>\n",
       "    <tr>\n",
       "      <th>95%</th>\n",
       "      <td>5085.200000</td>\n",
       "      <td>4304.400000</td>\n",
       "      <td>513.100000</td>\n",
       "      <td>236.150000</td>\n",
       "      <td>51.050000</td>\n",
       "      <td>25.050000</td>\n",
       "      <td>21.000000</td>\n",
       "      <td>5.000000</td>\n",
       "      <td>1.000000</td>\n",
       "    </tr>\n",
       "    <tr>\n",
       "      <th>99%</th>\n",
       "      <td>5122.080000</td>\n",
       "      <td>4324.150000</td>\n",
       "      <td>519.070000</td>\n",
       "      <td>241.040000</td>\n",
       "      <td>55.030000</td>\n",
       "      <td>28.040000</td>\n",
       "      <td>23.010000</td>\n",
       "      <td>7.010000</td>\n",
       "      <td>1.000000</td>\n",
       "    </tr>\n",
       "    <tr>\n",
       "      <th>max</th>\n",
       "      <td>5130.000000</td>\n",
       "      <td>4339.000000</td>\n",
       "      <td>526.000000</td>\n",
       "      <td>245.000000</td>\n",
       "      <td>58.000000</td>\n",
       "      <td>32.000000</td>\n",
       "      <td>24.000000</td>\n",
       "      <td>8.000000</td>\n",
       "      <td>1.000000</td>\n",
       "    </tr>\n",
       "  </tbody>\n",
       "</table>\n",
       "</div>"
      ],
      "text/plain": [
       "           Nothing     One_Pair    Two_Pair  Three_of_a_Kind    Straight  \\\n",
       "count   100.000000   100.000000  100.000000       100.000000  100.000000   \n",
       "mean   5012.520000  4222.220000  478.020000       211.670000   39.880000   \n",
       "std      46.464384    49.576709   21.342791        14.750487    6.712389   \n",
       "min    4886.000000  4064.000000  422.000000       179.000000   24.000000   \n",
       "1%     4927.580000  4122.410000  431.900000       180.980000   25.980000   \n",
       "5%     4946.400000  4143.950000  441.950000       186.900000   29.000000   \n",
       "10%    4953.800000  4163.500000  446.900000       193.900000   32.000000   \n",
       "25%    4978.250000  4191.000000  464.500000       202.750000   36.000000   \n",
       "50%    5013.000000  4222.500000  478.000000       210.500000   40.000000   \n",
       "75%    5046.000000  4256.250000  492.000000       222.000000   43.250000   \n",
       "90%    5066.600000  4284.100000  506.200000       230.100000   48.100000   \n",
       "95%    5085.200000  4304.400000  513.100000       236.150000   51.050000   \n",
       "99%    5122.080000  4324.150000  519.070000       241.040000   55.030000   \n",
       "max    5130.000000  4339.000000  526.000000       245.000000   58.000000   \n",
       "\n",
       "            Flush  Full_House  Four_of_a_Kind  Straight_Flush  \n",
       "count  100.000000  100.000000      100.000000      100.000000  \n",
       "mean    19.150000   13.910000        2.470000        0.160000  \n",
       "std      3.983235    3.706655        1.493792        0.368453  \n",
       "min     10.000000    7.000000        0.000000        0.000000  \n",
       "1%      10.990000    7.000000        0.000000        0.000000  \n",
       "5%      12.000000    8.000000        0.000000        0.000000  \n",
       "10%     14.000000   10.000000        1.000000        0.000000  \n",
       "25%     17.000000   11.000000        1.000000        0.000000  \n",
       "50%     19.000000   13.500000        2.000000        0.000000  \n",
       "75%     22.000000   16.000000        3.000000        0.000000  \n",
       "90%     24.000000   19.000000        4.000000        1.000000  \n",
       "95%     25.050000   21.000000        5.000000        1.000000  \n",
       "99%     28.040000   23.010000        7.010000        1.000000  \n",
       "max     32.000000   24.000000        8.000000        1.000000  "
      ]
     },
     "execution_count": 6,
     "metadata": {},
     "output_type": "execute_result"
    }
   ],
   "source": [
    "LargeDeckSta_df.describe(percentiles=[.01,.05,.1,.25,.5,.75,.9,.95,.99])"
   ]
  },
  {
   "cell_type": "code",
   "execution_count": 7,
   "metadata": {},
   "outputs": [
    {
     "data": {
      "text/plain": [
       "<seaborn.axisgrid.FacetGrid at 0x16840d1bd60>"
      ]
     },
     "execution_count": 7,
     "metadata": {},
     "output_type": "execute_result"
    },
    {
     "data": {
      "image/png": "[encoded data removed]",
      "text/plain": [
       "<Figure size 360x360 with 1 Axes>"
      ]
     },
     "metadata": {
      "needs_background": "light"
     },
     "output_type": "display_data"
    }
   ],
   "source": [
    "sns.displot(LargeDeckSta_df, x=\"Nothing\", kind=\"kde\", bw_adjust=2)"
   ]
  },
  {
   "cell_type": "code",
   "execution_count": 8,
   "metadata": {
    "scrolled": true
   },
   "outputs": [
    {
     "data": {
      "text/plain": [
       "<seaborn.axisgrid.FacetGrid at 0x16841054ee0>"
      ]
     },
     "execution_count": 8,
     "metadata": {},
     "output_type": "execute_result"
    },
    {
     "data": {
      "image/png": "[encoded data removed]",
      "text/plain": [
       "<Figure size 360x360 with 1 Axes>"
      ]
     },
     "metadata": {
      "needs_background": "light"
     },
     "output_type": "display_data"
    }
   ],
   "source": [
    "sns.displot(LargeDeckSta_df, x=\"Full_House\", kind=\"kde\", bw_adjust=2)"
   ]
  },
  {
   "cell_type": "code",
   "execution_count": 9,
   "metadata": {},
   "outputs": [
    {
     "data": {
      "text/plain": [
       "<seaborn.axisgrid.FacetGrid at 0x16841054940>"
      ]
     },
     "execution_count": 9,
     "metadata": {},
     "output_type": "execute_result"
    },
    {
     "data": {
      "image/png": "[encoded data removed]",
      "text/plain": [
       "<Figure size 360x360 with 1 Axes>"
      ]
     },
     "metadata": {
      "needs_background": "light"
     },
     "output_type": "display_data"
    }
   ],
   "source": [
    "sns.displot(LargeDeckSta_df, x=\"Four_of_a_Kind\", kind=\"kde\", bw_adjust=2)"
   ]
  },
  {
   "cell_type": "code",
   "execution_count": 10,
   "metadata": {},
   "outputs": [
    {
     "data": {
      "text/plain": [
       "<AxesSubplot:ylabel='Density'>"
      ]
     },
     "execution_count": 10,
     "metadata": {},
     "output_type": "execute_result"
    },
    {
     "data": {
      "image/png": "[encoded data removed]",
      "text/plain": [
       "<Figure size 432x288 with 1 Axes>"
      ]
     },
     "metadata": {
      "needs_background": "light"
     },
     "output_type": "display_data"
    }
   ],
   "source": [
    "#plot distribution of values in points column\n",
    "LargeDeckSta_df['Four_of_a_Kind'].plot(kind='kde')"
   ]
  },
  {
   "cell_type": "code",
   "execution_count": 11,
   "metadata": {},
   "outputs": [
    {
     "data": {
      "text/plain": [
       "<AxesSubplot:ylabel='Density'>"
      ]
     },
     "execution_count": 11,
     "metadata": {},
     "output_type": "execute_result"
    },
    {
     "data": {
      "image/png": "[encoded data removed]",
      "text/plain": [
       "<Figure size 432x288 with 1 Axes>"
      ]
     },
     "metadata": {
      "needs_background": "light"
     },
     "output_type": "display_data"
    }
   ],
   "source": [
    "#plot distribution of values in points column\n",
    "LargeDeckSta_df['Nothing'].plot(kind='kde')"
   ]
  },
  {
   "cell_type": "code",
   "execution_count": 12,
   "metadata": {},
   "outputs": [
    {
     "data": {
      "text/plain": [
       "<AxesSubplot:ylabel='Density'>"
      ]
     },
     "execution_count": 12,
     "metadata": {},
     "output_type": "execute_result"
    },
    {
     "data": {
      "image/png": "[encoded data removed]",
      "text/plain": [
       "<Figure size 432x288 with 1 Axes>"
      ]
     },
     "metadata": {
      "needs_background": "light"
     },
     "output_type": "display_data"
    }
   ],
   "source": [
    "#plot distribution of values in points column\n",
    "LargeDeckSta_df['Straight_Flush'].plot(kind='kde')"
   ]
  },
  {
   "cell_type": "code",
   "execution_count": null,
   "metadata": {},
   "outputs": [],
   "source": []
  }
 ],
 "metadata": {
  "kernelspec": {
   "display_name": "Python 3",
   "language": "python",
   "name": "python3"
  },
  "language_info": {
   "codemirror_mode": {
    "name": "ipython",
    "version": 3
   },
   "file_extension": ".py",
   "mimetype": "text/x-python",
   "name": "python",
   "nbconvert_exporter": "python",
   "pygments_lexer": "ipython3",
   "version": "3.8.5"
  }
 },
 "nbformat": 4,
 "nbformat_minor": 4
}
